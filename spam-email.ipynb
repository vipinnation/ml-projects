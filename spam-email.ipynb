{
 "cells": [
  {
   "cell_type": "code",
   "execution_count": 1,
   "metadata": {},
   "outputs": [],
   "source": [
    "import pandas as pd\n",
    "import numpy as np"
   ]
  },
  {
   "cell_type": "code",
   "execution_count": 2,
   "metadata": {},
   "outputs": [],
   "source": [
    "df = pd.read_csv('./data/spam_ham_dataset.csv')"
   ]
  },
  {
   "cell_type": "code",
   "execution_count": 3,
   "metadata": {},
   "outputs": [],
   "source": [
    "df.drop(columns=[\"Unnamed: 0\"], inplace=True)"
   ]
  },
  {
   "cell_type": "code",
   "execution_count": 4,
   "metadata": {},
   "outputs": [
    {
     "data": {
      "text/html": [
       "<div>\n",
       "<style scoped>\n",
       "    .dataframe tbody tr th:only-of-type {\n",
       "        vertical-align: middle;\n",
       "    }\n",
       "\n",
       "    .dataframe tbody tr th {\n",
       "        vertical-align: top;\n",
       "    }\n",
       "\n",
       "    .dataframe thead th {\n",
       "        text-align: right;\n",
       "    }\n",
       "</style>\n",
       "<table border=\"1\" class=\"dataframe\">\n",
       "  <thead>\n",
       "    <tr style=\"text-align: right;\">\n",
       "      <th></th>\n",
       "      <th>label</th>\n",
       "      <th>text</th>\n",
       "      <th>label_num</th>\n",
       "    </tr>\n",
       "  </thead>\n",
       "  <tbody>\n",
       "    <tr>\n",
       "      <th>0</th>\n",
       "      <td>ham</td>\n",
       "      <td>Subject: enron methanol ; meter # : 988291\\r\\n...</td>\n",
       "      <td>0</td>\n",
       "    </tr>\n",
       "    <tr>\n",
       "      <th>1</th>\n",
       "      <td>ham</td>\n",
       "      <td>Subject: hpl nom for january 9 , 2001\\r\\n( see...</td>\n",
       "      <td>0</td>\n",
       "    </tr>\n",
       "    <tr>\n",
       "      <th>2</th>\n",
       "      <td>ham</td>\n",
       "      <td>Subject: neon retreat\\r\\nho ho ho , we ' re ar...</td>\n",
       "      <td>0</td>\n",
       "    </tr>\n",
       "    <tr>\n",
       "      <th>3</th>\n",
       "      <td>spam</td>\n",
       "      <td>Subject: photoshop , windows , office . cheap ...</td>\n",
       "      <td>1</td>\n",
       "    </tr>\n",
       "    <tr>\n",
       "      <th>4</th>\n",
       "      <td>ham</td>\n",
       "      <td>Subject: re : indian springs\\r\\nthis deal is t...</td>\n",
       "      <td>0</td>\n",
       "    </tr>\n",
       "  </tbody>\n",
       "</table>\n",
       "</div>"
      ],
      "text/plain": [
       "  label                                               text  label_num\n",
       "0   ham  Subject: enron methanol ; meter # : 988291\\r\\n...          0\n",
       "1   ham  Subject: hpl nom for january 9 , 2001\\r\\n( see...          0\n",
       "2   ham  Subject: neon retreat\\r\\nho ho ho , we ' re ar...          0\n",
       "3  spam  Subject: photoshop , windows , office . cheap ...          1\n",
       "4   ham  Subject: re : indian springs\\r\\nthis deal is t...          0"
      ]
     },
     "execution_count": 4,
     "metadata": {},
     "output_type": "execute_result"
    }
   ],
   "source": [
    "df.head()"
   ]
  },
  {
   "cell_type": "code",
   "execution_count": 5,
   "metadata": {},
   "outputs": [
    {
     "data": {
      "text/plain": [
       "(5171, 3)"
      ]
     },
     "execution_count": 5,
     "metadata": {},
     "output_type": "execute_result"
    }
   ],
   "source": [
    "df.shape"
   ]
  },
  {
   "cell_type": "code",
   "execution_count": 6,
   "metadata": {},
   "outputs": [
    {
     "data": {
      "text/plain": [
       "np.int64(178)"
      ]
     },
     "execution_count": 6,
     "metadata": {},
     "output_type": "execute_result"
    }
   ],
   "source": [
    "df.duplicated().sum()"
   ]
  },
  {
   "cell_type": "code",
   "execution_count": 7,
   "metadata": {},
   "outputs": [],
   "source": [
    "df.drop_duplicates(inplace=True)"
   ]
  },
  {
   "cell_type": "code",
   "execution_count": 9,
   "metadata": {},
   "outputs": [
    {
     "data": {
      "text/plain": [
       "label        0\n",
       "text         0\n",
       "label_num    0\n",
       "dtype: int64"
      ]
     },
     "execution_count": 9,
     "metadata": {},
     "output_type": "execute_result"
    }
   ],
   "source": [
    "df.isnull().sum()"
   ]
  },
  {
   "cell_type": "code",
   "execution_count": 10,
   "metadata": {},
   "outputs": [
    {
     "data": {
      "text/plain": [
       "label\n",
       "ham     3531\n",
       "spam    1462\n",
       "Name: count, dtype: int64"
      ]
     },
     "execution_count": 10,
     "metadata": {},
     "output_type": "execute_result"
    }
   ],
   "source": [
    "df[\"label\"].value_counts()"
   ]
  },
  {
   "cell_type": "code",
   "execution_count": 11,
   "metadata": {},
   "outputs": [
    {
     "data": {
      "text/plain": [
       "'Subject: re : industrial report\\r\\nsince unify { mop } is down today it will be impossible to meet my\\r\\naggressive deadline for completing\\r\\nthe \" ken seaman \" report .\\r\\nonce the system is up and running , i will complete the report and\\r\\nthe julie meyers report .\\r\\ni am updating both reports with the information available .\\r\\nthis message really is intended for gary because daren and pat is\\r\\naware of my situation .\\r\\n- - - - - - - - - - - - - - - - - - - - - - forwarded by robert e lloyd / hou / ect on 08 / 01 / 2000\\r\\n02 : 48 pm - - - - - - - - - - - - - - - - - - - - - - - - - - -\\r\\nfrom : robert e lloyd on 07 / 31 / 2000 09 : 50 am\\r\\nto : pat clynes / corp / enron @ enron\\r\\ncc : daren j farmer / hou / ect @ ect , gary a hanks / hou / ect @ ect , robert e\\r\\nlloyd / hou / ect\\r\\nsubject : re : industrial report\\r\\ni will have the \" ken seaman \" file completed by the end of day august lst .\\r\\nenron north america corp .\\r\\nfrom : pat clynes @ enron 07 / 31 / 2000 09 : 40 am\\r\\nto : robert e lloyd / hou / ect @ ect\\r\\ncc : robert e lloyd / hou / ect @ ect , daren j farmer / hou / ect @ ect , gary a\\r\\nhanks / hou / ect @ ect\\r\\nsubject : re : industrial report\\r\\ni am referring to ken seaman \\' s file which provides additional information .\\r\\nwe definitely need ken \\' s\\r\\nfile completed by aug lst . and distributed to our group , daren farmer , and\\r\\ngary hanks . both files should\\r\\nbe completed and can be linked on duplicate information . thanks , pat\\r\\nrobert e lloyd @ ect\\r\\n07 / 31 / 2000 09 : 29 am\\r\\nto : pat clynes / corp / enron @ enron\\r\\ncc : robert e lloyd / hou / ect @ ect , daren j farmer / hou / ect @ ect , gary a\\r\\nhanks / hou / ect @ ect\\r\\nsubject : re : industrial report\\r\\ni am confused . what file do you want me to update ; julie meyers file or ken\\r\\nseaman file ?\\r\\nboth files provide similar data which is helpful to all of our support\\r\\ngroups .\\r\\nto prepare both files i feel is a duplicate of my efforts . please let\\r\\nknow if you want both files updated\\r\\nand the approximate time table for completion .\\r\\nenron north america corp .\\r\\nfrom : pat clynes @ enron 07 / 31 / 2000 09 : 02 am\\r\\nto : robert e lloyd / hou / ect @ ect\\r\\ncc : daren j farmer / hou / ect @ ect , gary a hanks / hou / ect @ ect\\r\\nsubject : re : indutrial report\\r\\nrobert ,\\r\\nthis is the file that i referenced in my last email . please get this file\\r\\ngoing again . thanks , pat\\r\\ndaren j farmer @ ect\\r\\n02 / 25 / 2000 04 : 52 pm\\r\\nto : robert e lloyd / hou / ect @ ect\\r\\ncc : pat clynes / corp / enron @ enron\\r\\nsubject : indutrial report\\r\\nrobert ,\\r\\nken developed an industrial report before he left . it can be found at\\r\\no / logistics / kenseaman / industrialsmonthly / . . . there is one file for each\\r\\nmonth of 2000 . i need you to update this for march . this will need to be\\r\\ndistributed to gas control , logistics , and myself . let me know if you have\\r\\nany questions .\\r\\nd'"
      ]
     },
     "execution_count": 11,
     "metadata": {},
     "output_type": "execute_result"
    }
   ],
   "source": [
    "df.iloc[182][\"text\"]"
   ]
  },
  {
   "cell_type": "code",
   "execution_count": 12,
   "metadata": {},
   "outputs": [],
   "source": [
    "subjects = [] \n",
    "\n",
    "for i in range(len(df)):\n",
    "    textData = df.iloc[i][\"text\"] \n",
    "\n",
    "    line = \" \"\n",
    "    for i in textData:\n",
    "        if(i == '\\r'):\n",
    "            break\n",
    "        line = line + i\n",
    "    line = line.replace(\"Subject:\", \" \")\n",
    "    \n",
    "    subjects.append(line)\n",
    "\n",
    "df[\"subjects\"] = subjects"
   ]
  },
  {
   "cell_type": "code",
   "execution_count": 13,
   "metadata": {},
   "outputs": [
    {
     "data": {
      "text/html": [
       "<div>\n",
       "<style scoped>\n",
       "    .dataframe tbody tr th:only-of-type {\n",
       "        vertical-align: middle;\n",
       "    }\n",
       "\n",
       "    .dataframe tbody tr th {\n",
       "        vertical-align: top;\n",
       "    }\n",
       "\n",
       "    .dataframe thead th {\n",
       "        text-align: right;\n",
       "    }\n",
       "</style>\n",
       "<table border=\"1\" class=\"dataframe\">\n",
       "  <thead>\n",
       "    <tr style=\"text-align: right;\">\n",
       "      <th></th>\n",
       "      <th>label</th>\n",
       "      <th>text</th>\n",
       "      <th>label_num</th>\n",
       "      <th>subjects</th>\n",
       "    </tr>\n",
       "  </thead>\n",
       "  <tbody>\n",
       "    <tr>\n",
       "      <th>0</th>\n",
       "      <td>ham</td>\n",
       "      <td>Subject: enron methanol ; meter # : 988291\\r\\n...</td>\n",
       "      <td>0</td>\n",
       "      <td>enron methanol ; meter # : 988291</td>\n",
       "    </tr>\n",
       "    <tr>\n",
       "      <th>1</th>\n",
       "      <td>ham</td>\n",
       "      <td>Subject: hpl nom for january 9 , 2001\\r\\n( see...</td>\n",
       "      <td>0</td>\n",
       "      <td>hpl nom for january 9 , 2001</td>\n",
       "    </tr>\n",
       "    <tr>\n",
       "      <th>2</th>\n",
       "      <td>ham</td>\n",
       "      <td>Subject: neon retreat\\r\\nho ho ho , we ' re ar...</td>\n",
       "      <td>0</td>\n",
       "      <td>neon retreat</td>\n",
       "    </tr>\n",
       "    <tr>\n",
       "      <th>3</th>\n",
       "      <td>spam</td>\n",
       "      <td>Subject: photoshop , windows , office . cheap ...</td>\n",
       "      <td>1</td>\n",
       "      <td>photoshop , windows , office . cheap . main...</td>\n",
       "    </tr>\n",
       "    <tr>\n",
       "      <th>4</th>\n",
       "      <td>ham</td>\n",
       "      <td>Subject: re : indian springs\\r\\nthis deal is t...</td>\n",
       "      <td>0</td>\n",
       "      <td>re : indian springs</td>\n",
       "    </tr>\n",
       "  </tbody>\n",
       "</table>\n",
       "</div>"
      ],
      "text/plain": [
       "  label                                               text  label_num  \\\n",
       "0   ham  Subject: enron methanol ; meter # : 988291\\r\\n...          0   \n",
       "1   ham  Subject: hpl nom for january 9 , 2001\\r\\n( see...          0   \n",
       "2   ham  Subject: neon retreat\\r\\nho ho ho , we ' re ar...          0   \n",
       "3  spam  Subject: photoshop , windows , office . cheap ...          1   \n",
       "4   ham  Subject: re : indian springs\\r\\nthis deal is t...          0   \n",
       "\n",
       "                                            subjects  \n",
       "0                  enron methanol ; meter # : 988291  \n",
       "1                       hpl nom for january 9 , 2001  \n",
       "2                                       neon retreat  \n",
       "3     photoshop , windows , office . cheap . main...  \n",
       "4                                re : indian springs  "
      ]
     },
     "execution_count": 13,
     "metadata": {},
     "output_type": "execute_result"
    }
   ],
   "source": [
    "df.head()"
   ]
  }
 ],
 "metadata": {
  "kernelspec": {
   "display_name": "Python 3",
   "language": "python",
   "name": "python3"
  },
  "language_info": {
   "codemirror_mode": {
    "name": "ipython",
    "version": 3
   },
   "file_extension": ".py",
   "mimetype": "text/x-python",
   "name": "python",
   "nbconvert_exporter": "python",
   "pygments_lexer": "ipython3",
   "version": "3.12.4"
  },
  "orig_nbformat": 4
 },
 "nbformat": 4,
 "nbformat_minor": 2
}
